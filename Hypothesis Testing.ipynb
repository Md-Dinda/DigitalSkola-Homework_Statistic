{
  "nbformat": 4,
  "nbformat_minor": 0,
  "metadata": {
    "colab": {
      "provenance": [],
      "toc_visible": true,
      "authorship_tag": "ABX9TyOvm0tqTTxBt4EBOw+0JpZd",
      "include_colab_link": true
    },
    "kernelspec": {
      "name": "python3",
      "display_name": "Python 3"
    },
    "language_info": {
      "name": "python"
    }
  },
  "cells": [
    {
      "cell_type": "markdown",
      "metadata": {
        "id": "view-in-github",
        "colab_type": "text"
      },
      "source": [
        "<a href=\"https://colab.research.google.com/github/SourGum73/DigitalSkola-Homework_Statistic/blob/main/Hypothesis%20Testing.ipynb\" target=\"_parent\"><img src=\"https://colab.research.google.com/assets/colab-badge.svg\" alt=\"Open In Colab\"/></a>"
      ]
    },
    {
      "cell_type": "code",
      "execution_count": null,
      "metadata": {
        "colab": {
          "base_uri": "https://localhost:8080/"
        },
        "id": "5NvLW55IhRAf",
        "outputId": "25615cfb-07d4-41e5-e139-0c1b83109302"
      },
      "outputs": [
        {
          "output_type": "stream",
          "name": "stdout",
          "text": [
            "Mounted at /content/drive\n"
          ]
        }
      ],
      "source": [
        "import pandas as pd\n",
        "import numpy as np\n",
        "import matplotlib.pyplot as plt\n",
        "import scipy.stats as stats\n",
        "\n",
        "from google.colab import drive\n",
        "drive.mount('/content/drive')"
      ]
    },
    {
      "cell_type": "code",
      "source": [
        "df = pd.read_csv('/content/drive/MyDrive/Colab Notebooks/Homework 4 - Statistic/cust_seg.csv')\n",
        "#df.sort_values(by='custid', inplace=True)\n",
        "df"
      ],
      "metadata": {
        "colab": {
          "base_uri": "https://localhost:8080/",
          "height": 443
        },
        "id": "oMX9Xg7ahvq7",
        "outputId": "27d4b98d-9d74-4284-be38-12d15545245f"
      },
      "execution_count": null,
      "outputs": [
        {
          "output_type": "execute_result",
          "data": {
            "text/plain": [
              "     custid  sex  AqChannel  region  Marital_status  segment  pre_usage  \\\n",
              "0        70    0          4       1               1        1         57   \n",
              "1       121    1          4       2               1        3         68   \n",
              "2        86    0          4       3               1        1         44   \n",
              "3       141    0          4       3               1        3         63   \n",
              "4       172    0          4       2               1        2         47   \n",
              "..      ...  ...        ...     ...             ...      ...        ...   \n",
              "195      31    1          2       2               2        1         55   \n",
              "196     145    1          4       2               1        3         42   \n",
              "197     187    1          4       2               2        1         57   \n",
              "198     118    1          4       2               1        1         55   \n",
              "199     137    1          4       3               1        2         63   \n",
              "\n",
              "     Post_usage_1month  Latest_mon_usage  post_usage_2ndmonth  \n",
              "0                   52              49.2                 57.2  \n",
              "1                   59              63.6                 64.9  \n",
              "2                   33              64.8                 36.3  \n",
              "3                   44              56.4                 48.4  \n",
              "4                   52              68.4                 57.2  \n",
              "..                 ...               ...                  ...  \n",
              "195                 59              62.4                 64.9  \n",
              "196                 46              45.6                 50.6  \n",
              "197                 41              68.4                 45.1  \n",
              "198                 62              69.6                 68.2  \n",
              "199                 65              78.0                 71.5  \n",
              "\n",
              "[200 rows x 10 columns]"
            ],
            "text/html": [
              "\n",
              "  <div id=\"df-fc1756ea-1537-433f-ba1e-6dabae5760a1\" class=\"colab-df-container\">\n",
              "    <div>\n",
              "<style scoped>\n",
              "    .dataframe tbody tr th:only-of-type {\n",
              "        vertical-align: middle;\n",
              "    }\n",
              "\n",
              "    .dataframe tbody tr th {\n",
              "        vertical-align: top;\n",
              "    }\n",
              "\n",
              "    .dataframe thead th {\n",
              "        text-align: right;\n",
              "    }\n",
              "</style>\n",
              "<table border=\"1\" class=\"dataframe\">\n",
              "  <thead>\n",
              "    <tr style=\"text-align: right;\">\n",
              "      <th></th>\n",
              "      <th>custid</th>\n",
              "      <th>sex</th>\n",
              "      <th>AqChannel</th>\n",
              "      <th>region</th>\n",
              "      <th>Marital_status</th>\n",
              "      <th>segment</th>\n",
              "      <th>pre_usage</th>\n",
              "      <th>Post_usage_1month</th>\n",
              "      <th>Latest_mon_usage</th>\n",
              "      <th>post_usage_2ndmonth</th>\n",
              "    </tr>\n",
              "  </thead>\n",
              "  <tbody>\n",
              "    <tr>\n",
              "      <th>0</th>\n",
              "      <td>70</td>\n",
              "      <td>0</td>\n",
              "      <td>4</td>\n",
              "      <td>1</td>\n",
              "      <td>1</td>\n",
              "      <td>1</td>\n",
              "      <td>57</td>\n",
              "      <td>52</td>\n",
              "      <td>49.2</td>\n",
              "      <td>57.2</td>\n",
              "    </tr>\n",
              "    <tr>\n",
              "      <th>1</th>\n",
              "      <td>121</td>\n",
              "      <td>1</td>\n",
              "      <td>4</td>\n",
              "      <td>2</td>\n",
              "      <td>1</td>\n",
              "      <td>3</td>\n",
              "      <td>68</td>\n",
              "      <td>59</td>\n",
              "      <td>63.6</td>\n",
              "      <td>64.9</td>\n",
              "    </tr>\n",
              "    <tr>\n",
              "      <th>2</th>\n",
              "      <td>86</td>\n",
              "      <td>0</td>\n",
              "      <td>4</td>\n",
              "      <td>3</td>\n",
              "      <td>1</td>\n",
              "      <td>1</td>\n",
              "      <td>44</td>\n",
              "      <td>33</td>\n",
              "      <td>64.8</td>\n",
              "      <td>36.3</td>\n",
              "    </tr>\n",
              "    <tr>\n",
              "      <th>3</th>\n",
              "      <td>141</td>\n",
              "      <td>0</td>\n",
              "      <td>4</td>\n",
              "      <td>3</td>\n",
              "      <td>1</td>\n",
              "      <td>3</td>\n",
              "      <td>63</td>\n",
              "      <td>44</td>\n",
              "      <td>56.4</td>\n",
              "      <td>48.4</td>\n",
              "    </tr>\n",
              "    <tr>\n",
              "      <th>4</th>\n",
              "      <td>172</td>\n",
              "      <td>0</td>\n",
              "      <td>4</td>\n",
              "      <td>2</td>\n",
              "      <td>1</td>\n",
              "      <td>2</td>\n",
              "      <td>47</td>\n",
              "      <td>52</td>\n",
              "      <td>68.4</td>\n",
              "      <td>57.2</td>\n",
              "    </tr>\n",
              "    <tr>\n",
              "      <th>...</th>\n",
              "      <td>...</td>\n",
              "      <td>...</td>\n",
              "      <td>...</td>\n",
              "      <td>...</td>\n",
              "      <td>...</td>\n",
              "      <td>...</td>\n",
              "      <td>...</td>\n",
              "      <td>...</td>\n",
              "      <td>...</td>\n",
              "      <td>...</td>\n",
              "    </tr>\n",
              "    <tr>\n",
              "      <th>195</th>\n",
              "      <td>31</td>\n",
              "      <td>1</td>\n",
              "      <td>2</td>\n",
              "      <td>2</td>\n",
              "      <td>2</td>\n",
              "      <td>1</td>\n",
              "      <td>55</td>\n",
              "      <td>59</td>\n",
              "      <td>62.4</td>\n",
              "      <td>64.9</td>\n",
              "    </tr>\n",
              "    <tr>\n",
              "      <th>196</th>\n",
              "      <td>145</td>\n",
              "      <td>1</td>\n",
              "      <td>4</td>\n",
              "      <td>2</td>\n",
              "      <td>1</td>\n",
              "      <td>3</td>\n",
              "      <td>42</td>\n",
              "      <td>46</td>\n",
              "      <td>45.6</td>\n",
              "      <td>50.6</td>\n",
              "    </tr>\n",
              "    <tr>\n",
              "      <th>197</th>\n",
              "      <td>187</td>\n",
              "      <td>1</td>\n",
              "      <td>4</td>\n",
              "      <td>2</td>\n",
              "      <td>2</td>\n",
              "      <td>1</td>\n",
              "      <td>57</td>\n",
              "      <td>41</td>\n",
              "      <td>68.4</td>\n",
              "      <td>45.1</td>\n",
              "    </tr>\n",
              "    <tr>\n",
              "      <th>198</th>\n",
              "      <td>118</td>\n",
              "      <td>1</td>\n",
              "      <td>4</td>\n",
              "      <td>2</td>\n",
              "      <td>1</td>\n",
              "      <td>1</td>\n",
              "      <td>55</td>\n",
              "      <td>62</td>\n",
              "      <td>69.6</td>\n",
              "      <td>68.2</td>\n",
              "    </tr>\n",
              "    <tr>\n",
              "      <th>199</th>\n",
              "      <td>137</td>\n",
              "      <td>1</td>\n",
              "      <td>4</td>\n",
              "      <td>3</td>\n",
              "      <td>1</td>\n",
              "      <td>2</td>\n",
              "      <td>63</td>\n",
              "      <td>65</td>\n",
              "      <td>78.0</td>\n",
              "      <td>71.5</td>\n",
              "    </tr>\n",
              "  </tbody>\n",
              "</table>\n",
              "<p>200 rows × 10 columns</p>\n",
              "</div>\n",
              "    <div class=\"colab-df-buttons\">\n",
              "\n",
              "  <div class=\"colab-df-container\">\n",
              "    <button class=\"colab-df-convert\" onclick=\"convertToInteractive('df-fc1756ea-1537-433f-ba1e-6dabae5760a1')\"\n",
              "            title=\"Convert this dataframe to an interactive table.\"\n",
              "            style=\"display:none;\">\n",
              "\n",
              "  <svg xmlns=\"http://www.w3.org/2000/svg\" height=\"24px\" viewBox=\"0 -960 960 960\">\n",
              "    <path d=\"M120-120v-720h720v720H120Zm60-500h600v-160H180v160Zm220 220h160v-160H400v160Zm0 220h160v-160H400v160ZM180-400h160v-160H180v160Zm440 0h160v-160H620v160ZM180-180h160v-160H180v160Zm440 0h160v-160H620v160Z\"/>\n",
              "  </svg>\n",
              "    </button>\n",
              "\n",
              "  <style>\n",
              "    .colab-df-container {\n",
              "      display:flex;\n",
              "      gap: 12px;\n",
              "    }\n",
              "\n",
              "    .colab-df-convert {\n",
              "      background-color: #E8F0FE;\n",
              "      border: none;\n",
              "      border-radius: 50%;\n",
              "      cursor: pointer;\n",
              "      display: none;\n",
              "      fill: #1967D2;\n",
              "      height: 32px;\n",
              "      padding: 0 0 0 0;\n",
              "      width: 32px;\n",
              "    }\n",
              "\n",
              "    .colab-df-convert:hover {\n",
              "      background-color: #E2EBFA;\n",
              "      box-shadow: 0px 1px 2px rgba(60, 64, 67, 0.3), 0px 1px 3px 1px rgba(60, 64, 67, 0.15);\n",
              "      fill: #174EA6;\n",
              "    }\n",
              "\n",
              "    .colab-df-buttons div {\n",
              "      margin-bottom: 4px;\n",
              "    }\n",
              "\n",
              "    [theme=dark] .colab-df-convert {\n",
              "      background-color: #3B4455;\n",
              "      fill: #D2E3FC;\n",
              "    }\n",
              "\n",
              "    [theme=dark] .colab-df-convert:hover {\n",
              "      background-color: #434B5C;\n",
              "      box-shadow: 0px 1px 3px 1px rgba(0, 0, 0, 0.15);\n",
              "      filter: drop-shadow(0px 1px 2px rgba(0, 0, 0, 0.3));\n",
              "      fill: #FFFFFF;\n",
              "    }\n",
              "  </style>\n",
              "\n",
              "    <script>\n",
              "      const buttonEl =\n",
              "        document.querySelector('#df-fc1756ea-1537-433f-ba1e-6dabae5760a1 button.colab-df-convert');\n",
              "      buttonEl.style.display =\n",
              "        google.colab.kernel.accessAllowed ? 'block' : 'none';\n",
              "\n",
              "      async function convertToInteractive(key) {\n",
              "        const element = document.querySelector('#df-fc1756ea-1537-433f-ba1e-6dabae5760a1');\n",
              "        const dataTable =\n",
              "          await google.colab.kernel.invokeFunction('convertToInteractive',\n",
              "                                                    [key], {});\n",
              "        if (!dataTable) return;\n",
              "\n",
              "        const docLinkHtml = 'Like what you see? Visit the ' +\n",
              "          '<a target=\"_blank\" href=https://colab.research.google.com/notebooks/data_table.ipynb>data table notebook</a>'\n",
              "          + ' to learn more about interactive tables.';\n",
              "        element.innerHTML = '';\n",
              "        dataTable['output_type'] = 'display_data';\n",
              "        await google.colab.output.renderOutput(dataTable, element);\n",
              "        const docLink = document.createElement('div');\n",
              "        docLink.innerHTML = docLinkHtml;\n",
              "        element.appendChild(docLink);\n",
              "      }\n",
              "    </script>\n",
              "  </div>\n",
              "\n",
              "\n",
              "<div id=\"df-847dccde-6104-4c40-9d7b-1ac1bdb70370\">\n",
              "  <button class=\"colab-df-quickchart\" onclick=\"quickchart('df-847dccde-6104-4c40-9d7b-1ac1bdb70370')\"\n",
              "            title=\"Suggest charts\"\n",
              "            style=\"display:none;\">\n",
              "\n",
              "<svg xmlns=\"http://www.w3.org/2000/svg\" height=\"24px\"viewBox=\"0 0 24 24\"\n",
              "     width=\"24px\">\n",
              "    <g>\n",
              "        <path d=\"M19 3H5c-1.1 0-2 .9-2 2v14c0 1.1.9 2 2 2h14c1.1 0 2-.9 2-2V5c0-1.1-.9-2-2-2zM9 17H7v-7h2v7zm4 0h-2V7h2v10zm4 0h-2v-4h2v4z\"/>\n",
              "    </g>\n",
              "</svg>\n",
              "  </button>\n",
              "\n",
              "<style>\n",
              "  .colab-df-quickchart {\n",
              "      --bg-color: #E8F0FE;\n",
              "      --fill-color: #1967D2;\n",
              "      --hover-bg-color: #E2EBFA;\n",
              "      --hover-fill-color: #174EA6;\n",
              "      --disabled-fill-color: #AAA;\n",
              "      --disabled-bg-color: #DDD;\n",
              "  }\n",
              "\n",
              "  [theme=dark] .colab-df-quickchart {\n",
              "      --bg-color: #3B4455;\n",
              "      --fill-color: #D2E3FC;\n",
              "      --hover-bg-color: #434B5C;\n",
              "      --hover-fill-color: #FFFFFF;\n",
              "      --disabled-bg-color: #3B4455;\n",
              "      --disabled-fill-color: #666;\n",
              "  }\n",
              "\n",
              "  .colab-df-quickchart {\n",
              "    background-color: var(--bg-color);\n",
              "    border: none;\n",
              "    border-radius: 50%;\n",
              "    cursor: pointer;\n",
              "    display: none;\n",
              "    fill: var(--fill-color);\n",
              "    height: 32px;\n",
              "    padding: 0;\n",
              "    width: 32px;\n",
              "  }\n",
              "\n",
              "  .colab-df-quickchart:hover {\n",
              "    background-color: var(--hover-bg-color);\n",
              "    box-shadow: 0 1px 2px rgba(60, 64, 67, 0.3), 0 1px 3px 1px rgba(60, 64, 67, 0.15);\n",
              "    fill: var(--button-hover-fill-color);\n",
              "  }\n",
              "\n",
              "  .colab-df-quickchart-complete:disabled,\n",
              "  .colab-df-quickchart-complete:disabled:hover {\n",
              "    background-color: var(--disabled-bg-color);\n",
              "    fill: var(--disabled-fill-color);\n",
              "    box-shadow: none;\n",
              "  }\n",
              "\n",
              "  .colab-df-spinner {\n",
              "    border: 2px solid var(--fill-color);\n",
              "    border-color: transparent;\n",
              "    border-bottom-color: var(--fill-color);\n",
              "    animation:\n",
              "      spin 1s steps(1) infinite;\n",
              "  }\n",
              "\n",
              "  @keyframes spin {\n",
              "    0% {\n",
              "      border-color: transparent;\n",
              "      border-bottom-color: var(--fill-color);\n",
              "      border-left-color: var(--fill-color);\n",
              "    }\n",
              "    20% {\n",
              "      border-color: transparent;\n",
              "      border-left-color: var(--fill-color);\n",
              "      border-top-color: var(--fill-color);\n",
              "    }\n",
              "    30% {\n",
              "      border-color: transparent;\n",
              "      border-left-color: var(--fill-color);\n",
              "      border-top-color: var(--fill-color);\n",
              "      border-right-color: var(--fill-color);\n",
              "    }\n",
              "    40% {\n",
              "      border-color: transparent;\n",
              "      border-right-color: var(--fill-color);\n",
              "      border-top-color: var(--fill-color);\n",
              "    }\n",
              "    60% {\n",
              "      border-color: transparent;\n",
              "      border-right-color: var(--fill-color);\n",
              "    }\n",
              "    80% {\n",
              "      border-color: transparent;\n",
              "      border-right-color: var(--fill-color);\n",
              "      border-bottom-color: var(--fill-color);\n",
              "    }\n",
              "    90% {\n",
              "      border-color: transparent;\n",
              "      border-bottom-color: var(--fill-color);\n",
              "    }\n",
              "  }\n",
              "</style>\n",
              "\n",
              "  <script>\n",
              "    async function quickchart(key) {\n",
              "      const quickchartButtonEl =\n",
              "        document.querySelector('#' + key + ' button');\n",
              "      quickchartButtonEl.disabled = true;  // To prevent multiple clicks.\n",
              "      quickchartButtonEl.classList.add('colab-df-spinner');\n",
              "      try {\n",
              "        const charts = await google.colab.kernel.invokeFunction(\n",
              "            'suggestCharts', [key], {});\n",
              "      } catch (error) {\n",
              "        console.error('Error during call to suggestCharts:', error);\n",
              "      }\n",
              "      quickchartButtonEl.classList.remove('colab-df-spinner');\n",
              "      quickchartButtonEl.classList.add('colab-df-quickchart-complete');\n",
              "    }\n",
              "    (() => {\n",
              "      let quickchartButtonEl =\n",
              "        document.querySelector('#df-847dccde-6104-4c40-9d7b-1ac1bdb70370 button');\n",
              "      quickchartButtonEl.style.display =\n",
              "        google.colab.kernel.accessAllowed ? 'block' : 'none';\n",
              "    })();\n",
              "  </script>\n",
              "</div>\n",
              "    </div>\n",
              "  </div>\n"
            ],
            "application/vnd.google.colaboratory.intrinsic+json": {
              "type": "dataframe",
              "variable_name": "df",
              "summary": "{\n  \"name\": \"df\",\n  \"rows\": 200,\n  \"fields\": [\n    {\n      \"column\": \"custid\",\n      \"properties\": {\n        \"dtype\": \"number\",\n        \"std\": 57,\n        \"min\": 1,\n        \"max\": 200,\n        \"num_unique_values\": 200,\n        \"samples\": [\n          173,\n          115,\n          126\n        ],\n        \"semantic_type\": \"\",\n        \"description\": \"\"\n      }\n    },\n    {\n      \"column\": \"sex\",\n      \"properties\": {\n        \"dtype\": \"number\",\n        \"std\": 0,\n        \"min\": 0,\n        \"max\": 1,\n        \"num_unique_values\": 2,\n        \"samples\": [\n          1,\n          0\n        ],\n        \"semantic_type\": \"\",\n        \"description\": \"\"\n      }\n    },\n    {\n      \"column\": \"AqChannel\",\n      \"properties\": {\n        \"dtype\": \"number\",\n        \"std\": 1,\n        \"min\": 1,\n        \"max\": 4,\n        \"num_unique_values\": 4,\n        \"samples\": [\n          3,\n          2\n        ],\n        \"semantic_type\": \"\",\n        \"description\": \"\"\n      }\n    },\n    {\n      \"column\": \"region\",\n      \"properties\": {\n        \"dtype\": \"number\",\n        \"std\": 0,\n        \"min\": 1,\n        \"max\": 3,\n        \"num_unique_values\": 3,\n        \"samples\": [\n          1,\n          2\n        ],\n        \"semantic_type\": \"\",\n        \"description\": \"\"\n      }\n    },\n    {\n      \"column\": \"Marital_status\",\n      \"properties\": {\n        \"dtype\": \"number\",\n        \"std\": 0,\n        \"min\": 1,\n        \"max\": 2,\n        \"num_unique_values\": 2,\n        \"samples\": [\n          2,\n          1\n        ],\n        \"semantic_type\": \"\",\n        \"description\": \"\"\n      }\n    },\n    {\n      \"column\": \"segment\",\n      \"properties\": {\n        \"dtype\": \"number\",\n        \"std\": 0,\n        \"min\": 1,\n        \"max\": 3,\n        \"num_unique_values\": 3,\n        \"samples\": [\n          1,\n          3\n        ],\n        \"semantic_type\": \"\",\n        \"description\": \"\"\n      }\n    },\n    {\n      \"column\": \"pre_usage\",\n      \"properties\": {\n        \"dtype\": \"number\",\n        \"std\": 10,\n        \"min\": 28,\n        \"max\": 76,\n        \"num_unique_values\": 30,\n        \"samples\": [\n          46,\n          52\n        ],\n        \"semantic_type\": \"\",\n        \"description\": \"\"\n      }\n    },\n    {\n      \"column\": \"Post_usage_1month\",\n      \"properties\": {\n        \"dtype\": \"number\",\n        \"std\": 9,\n        \"min\": 31,\n        \"max\": 67,\n        \"num_unique_values\": 29,\n        \"samples\": [\n          50,\n          67\n        ],\n        \"semantic_type\": \"\",\n        \"description\": \"\"\n      }\n    },\n    {\n      \"column\": \"Latest_mon_usage\",\n      \"properties\": {\n        \"dtype\": \"number\",\n        \"std\": 11.242137352892756,\n        \"min\": 39.6,\n        \"max\": 90.0,\n        \"num_unique_values\": 40,\n        \"samples\": [\n          76.8,\n          55.2\n        ],\n        \"semantic_type\": \"\",\n        \"description\": \"\"\n      }\n    },\n    {\n      \"column\": \"post_usage_2ndmonth\",\n      \"properties\": {\n        \"dtype\": \"number\",\n        \"std\": 10.426444623525184,\n        \"min\": 34.1,\n        \"max\": 73.7,\n        \"num_unique_values\": 29,\n        \"samples\": [\n          55.0,\n          73.7\n        ],\n        \"semantic_type\": \"\",\n        \"description\": \"\"\n      }\n    }\n  ]\n}"
            }
          },
          "metadata": {},
          "execution_count": 3
        }
      ]
    },
    {
      "cell_type": "markdown",
      "source": [
        "## EDA"
      ],
      "metadata": {
        "id": "goKji3G2inPD"
      }
    },
    {
      "cell_type": "markdown",
      "source": [
        "**A. basic Functionr (info and describe)**"
      ],
      "metadata": {
        "id": "1YLIki0fiwSX"
      }
    },
    {
      "cell_type": "code",
      "source": [
        "df.info()"
      ],
      "metadata": {
        "colab": {
          "base_uri": "https://localhost:8080/"
        },
        "id": "6iVEpx1xifx2",
        "outputId": "59debc34-5563-421c-d326-de44405253c0"
      },
      "execution_count": null,
      "outputs": [
        {
          "output_type": "stream",
          "name": "stdout",
          "text": [
            "<class 'pandas.core.frame.DataFrame'>\n",
            "RangeIndex: 200 entries, 0 to 199\n",
            "Data columns (total 10 columns):\n",
            " #   Column               Non-Null Count  Dtype  \n",
            "---  ------               --------------  -----  \n",
            " 0   custid               200 non-null    int64  \n",
            " 1   sex                  200 non-null    int64  \n",
            " 2   AqChannel            200 non-null    int64  \n",
            " 3   region               200 non-null    int64  \n",
            " 4   Marital_status       200 non-null    int64  \n",
            " 5   segment              200 non-null    int64  \n",
            " 6   pre_usage            200 non-null    int64  \n",
            " 7   Post_usage_1month    200 non-null    int64  \n",
            " 8   Latest_mon_usage     200 non-null    float64\n",
            " 9   post_usage_2ndmonth  200 non-null    float64\n",
            "dtypes: float64(2), int64(8)\n",
            "memory usage: 15.8 KB\n"
          ]
        }
      ]
    },
    {
      "cell_type": "code",
      "source": [
        "# Notes: The data is already in numerical form, so it doesn't need to be changed again."
      ],
      "metadata": {
        "id": "XAZVHs2qihBU"
      },
      "execution_count": null,
      "outputs": []
    },
    {
      "cell_type": "code",
      "source": [
        "df['custid'].unique()"
      ],
      "metadata": {
        "id": "EmvizBDmnMj_",
        "outputId": "b7bedc82-8806-4625-d754-d815a35464cc",
        "colab": {
          "base_uri": "https://localhost:8080/"
        }
      },
      "execution_count": null,
      "outputs": [
        {
          "output_type": "execute_result",
          "data": {
            "text/plain": [
              "array([ 70, 121,  86, 141, 172, 113,  50,  11,  84,  48,  75,  60,  95,\n",
              "       104,  38, 115,  76, 195, 114,  85, 167, 143,  41,  20,  12,  53,\n",
              "       154, 178, 196,  29, 126, 103, 192, 150, 199, 144, 200,  80,  16,\n",
              "       153, 176, 177, 168,  40,  62, 169,  49, 136, 189,   7,  27, 128,\n",
              "        21, 183, 132,  15,  67,  22, 185,   9, 181, 170, 134, 108, 197,\n",
              "       140, 171, 107,  81,  18, 155,  97,  68, 157,  56,   5, 159, 123,\n",
              "       164,  14, 127, 165, 174,   3,  58, 146, 102, 117, 133,  94,  24,\n",
              "       149,  82,   8, 129, 173,  57, 100,   1, 194,  88,  99,  47, 120,\n",
              "       166,  65, 101,  89,  54, 180, 162,   4, 131, 125,  34, 106, 130,\n",
              "        93, 163,  37,  35,  87,  73, 151,  44, 152, 105,  28,  91,  45,\n",
              "       116,  33,  66,  72,  77,  61, 190,  42,   2,  55,  19,  90, 142,\n",
              "        17, 122, 191,  83, 182,   6,  46,  43,  96, 138,  10,  71, 139,\n",
              "       110, 148, 109,  39, 147,  74, 198, 161, 112,  69, 156, 111, 186,\n",
              "        98, 119,  13,  51,  26,  36, 135,  59,  78,  64,  63,  79, 193,\n",
              "        92, 160,  32,  23, 158,  25, 188,  52, 124, 175, 184,  30, 179,\n",
              "        31, 145, 187, 118, 137])"
            ]
          },
          "metadata": {},
          "execution_count": 8
        }
      ]
    },
    {
      "cell_type": "code",
      "source": [
        "df.describe()"
      ],
      "metadata": {
        "colab": {
          "base_uri": "https://localhost:8080/",
          "height": 320
        },
        "id": "hgeZr2chjDwX",
        "outputId": "d7343607-297b-421b-ae07-96a9aa2709c5"
      },
      "execution_count": null,
      "outputs": [
        {
          "output_type": "execute_result",
          "data": {
            "text/plain": [
              "           custid        sex   AqChannel      region  Marital_status  \\\n",
              "count  200.000000  200.00000  200.000000  200.000000      200.000000   \n",
              "mean   100.500000    0.54500    3.430000    2.055000        1.160000   \n",
              "std     57.879185    0.49922    1.039472    0.724291        0.367526   \n",
              "min      1.000000    0.00000    1.000000    1.000000        1.000000   \n",
              "25%     50.750000    0.00000    3.000000    2.000000        1.000000   \n",
              "50%    100.500000    1.00000    4.000000    2.000000        1.000000   \n",
              "75%    150.250000    1.00000    4.000000    3.000000        1.000000   \n",
              "max    200.000000    1.00000    4.000000    3.000000        2.000000   \n",
              "\n",
              "          segment   pre_usage  Post_usage_1month  Latest_mon_usage  \\\n",
              "count  200.000000  200.000000         200.000000        200.000000   \n",
              "mean     2.025000   52.230000          52.775000         63.174000   \n",
              "std      0.690477   10.252937           9.478586         11.242137   \n",
              "min      1.000000   28.000000          31.000000         39.600000   \n",
              "25%      2.000000   44.000000          45.750000         54.000000   \n",
              "50%      2.000000   50.000000          54.000000         62.400000   \n",
              "75%      2.250000   60.000000          60.000000         70.800000   \n",
              "max      3.000000   76.000000          67.000000         90.000000   \n",
              "\n",
              "       post_usage_2ndmonth  \n",
              "count           200.000000  \n",
              "mean             58.052500  \n",
              "std              10.426445  \n",
              "min              34.100000  \n",
              "25%              50.325000  \n",
              "50%              59.400000  \n",
              "75%              66.000000  \n",
              "max              73.700000  "
            ],
            "text/html": [
              "\n",
              "  <div id=\"df-ecbdee22-e87a-401f-ae7b-0e52301c7efa\" class=\"colab-df-container\">\n",
              "    <div>\n",
              "<style scoped>\n",
              "    .dataframe tbody tr th:only-of-type {\n",
              "        vertical-align: middle;\n",
              "    }\n",
              "\n",
              "    .dataframe tbody tr th {\n",
              "        vertical-align: top;\n",
              "    }\n",
              "\n",
              "    .dataframe thead th {\n",
              "        text-align: right;\n",
              "    }\n",
              "</style>\n",
              "<table border=\"1\" class=\"dataframe\">\n",
              "  <thead>\n",
              "    <tr style=\"text-align: right;\">\n",
              "      <th></th>\n",
              "      <th>custid</th>\n",
              "      <th>sex</th>\n",
              "      <th>AqChannel</th>\n",
              "      <th>region</th>\n",
              "      <th>Marital_status</th>\n",
              "      <th>segment</th>\n",
              "      <th>pre_usage</th>\n",
              "      <th>Post_usage_1month</th>\n",
              "      <th>Latest_mon_usage</th>\n",
              "      <th>post_usage_2ndmonth</th>\n",
              "    </tr>\n",
              "  </thead>\n",
              "  <tbody>\n",
              "    <tr>\n",
              "      <th>count</th>\n",
              "      <td>200.000000</td>\n",
              "      <td>200.00000</td>\n",
              "      <td>200.000000</td>\n",
              "      <td>200.000000</td>\n",
              "      <td>200.000000</td>\n",
              "      <td>200.000000</td>\n",
              "      <td>200.000000</td>\n",
              "      <td>200.000000</td>\n",
              "      <td>200.000000</td>\n",
              "      <td>200.000000</td>\n",
              "    </tr>\n",
              "    <tr>\n",
              "      <th>mean</th>\n",
              "      <td>100.500000</td>\n",
              "      <td>0.54500</td>\n",
              "      <td>3.430000</td>\n",
              "      <td>2.055000</td>\n",
              "      <td>1.160000</td>\n",
              "      <td>2.025000</td>\n",
              "      <td>52.230000</td>\n",
              "      <td>52.775000</td>\n",
              "      <td>63.174000</td>\n",
              "      <td>58.052500</td>\n",
              "    </tr>\n",
              "    <tr>\n",
              "      <th>std</th>\n",
              "      <td>57.879185</td>\n",
              "      <td>0.49922</td>\n",
              "      <td>1.039472</td>\n",
              "      <td>0.724291</td>\n",
              "      <td>0.367526</td>\n",
              "      <td>0.690477</td>\n",
              "      <td>10.252937</td>\n",
              "      <td>9.478586</td>\n",
              "      <td>11.242137</td>\n",
              "      <td>10.426445</td>\n",
              "    </tr>\n",
              "    <tr>\n",
              "      <th>min</th>\n",
              "      <td>1.000000</td>\n",
              "      <td>0.00000</td>\n",
              "      <td>1.000000</td>\n",
              "      <td>1.000000</td>\n",
              "      <td>1.000000</td>\n",
              "      <td>1.000000</td>\n",
              "      <td>28.000000</td>\n",
              "      <td>31.000000</td>\n",
              "      <td>39.600000</td>\n",
              "      <td>34.100000</td>\n",
              "    </tr>\n",
              "    <tr>\n",
              "      <th>25%</th>\n",
              "      <td>50.750000</td>\n",
              "      <td>0.00000</td>\n",
              "      <td>3.000000</td>\n",
              "      <td>2.000000</td>\n",
              "      <td>1.000000</td>\n",
              "      <td>2.000000</td>\n",
              "      <td>44.000000</td>\n",
              "      <td>45.750000</td>\n",
              "      <td>54.000000</td>\n",
              "      <td>50.325000</td>\n",
              "    </tr>\n",
              "    <tr>\n",
              "      <th>50%</th>\n",
              "      <td>100.500000</td>\n",
              "      <td>1.00000</td>\n",
              "      <td>4.000000</td>\n",
              "      <td>2.000000</td>\n",
              "      <td>1.000000</td>\n",
              "      <td>2.000000</td>\n",
              "      <td>50.000000</td>\n",
              "      <td>54.000000</td>\n",
              "      <td>62.400000</td>\n",
              "      <td>59.400000</td>\n",
              "    </tr>\n",
              "    <tr>\n",
              "      <th>75%</th>\n",
              "      <td>150.250000</td>\n",
              "      <td>1.00000</td>\n",
              "      <td>4.000000</td>\n",
              "      <td>3.000000</td>\n",
              "      <td>1.000000</td>\n",
              "      <td>2.250000</td>\n",
              "      <td>60.000000</td>\n",
              "      <td>60.000000</td>\n",
              "      <td>70.800000</td>\n",
              "      <td>66.000000</td>\n",
              "    </tr>\n",
              "    <tr>\n",
              "      <th>max</th>\n",
              "      <td>200.000000</td>\n",
              "      <td>1.00000</td>\n",
              "      <td>4.000000</td>\n",
              "      <td>3.000000</td>\n",
              "      <td>2.000000</td>\n",
              "      <td>3.000000</td>\n",
              "      <td>76.000000</td>\n",
              "      <td>67.000000</td>\n",
              "      <td>90.000000</td>\n",
              "      <td>73.700000</td>\n",
              "    </tr>\n",
              "  </tbody>\n",
              "</table>\n",
              "</div>\n",
              "    <div class=\"colab-df-buttons\">\n",
              "\n",
              "  <div class=\"colab-df-container\">\n",
              "    <button class=\"colab-df-convert\" onclick=\"convertToInteractive('df-ecbdee22-e87a-401f-ae7b-0e52301c7efa')\"\n",
              "            title=\"Convert this dataframe to an interactive table.\"\n",
              "            style=\"display:none;\">\n",
              "\n",
              "  <svg xmlns=\"http://www.w3.org/2000/svg\" height=\"24px\" viewBox=\"0 -960 960 960\">\n",
              "    <path d=\"M120-120v-720h720v720H120Zm60-500h600v-160H180v160Zm220 220h160v-160H400v160Zm0 220h160v-160H400v160ZM180-400h160v-160H180v160Zm440 0h160v-160H620v160ZM180-180h160v-160H180v160Zm440 0h160v-160H620v160Z\"/>\n",
              "  </svg>\n",
              "    </button>\n",
              "\n",
              "  <style>\n",
              "    .colab-df-container {\n",
              "      display:flex;\n",
              "      gap: 12px;\n",
              "    }\n",
              "\n",
              "    .colab-df-convert {\n",
              "      background-color: #E8F0FE;\n",
              "      border: none;\n",
              "      border-radius: 50%;\n",
              "      cursor: pointer;\n",
              "      display: none;\n",
              "      fill: #1967D2;\n",
              "      height: 32px;\n",
              "      padding: 0 0 0 0;\n",
              "      width: 32px;\n",
              "    }\n",
              "\n",
              "    .colab-df-convert:hover {\n",
              "      background-color: #E2EBFA;\n",
              "      box-shadow: 0px 1px 2px rgba(60, 64, 67, 0.3), 0px 1px 3px 1px rgba(60, 64, 67, 0.15);\n",
              "      fill: #174EA6;\n",
              "    }\n",
              "\n",
              "    .colab-df-buttons div {\n",
              "      margin-bottom: 4px;\n",
              "    }\n",
              "\n",
              "    [theme=dark] .colab-df-convert {\n",
              "      background-color: #3B4455;\n",
              "      fill: #D2E3FC;\n",
              "    }\n",
              "\n",
              "    [theme=dark] .colab-df-convert:hover {\n",
              "      background-color: #434B5C;\n",
              "      box-shadow: 0px 1px 3px 1px rgba(0, 0, 0, 0.15);\n",
              "      filter: drop-shadow(0px 1px 2px rgba(0, 0, 0, 0.3));\n",
              "      fill: #FFFFFF;\n",
              "    }\n",
              "  </style>\n",
              "\n",
              "    <script>\n",
              "      const buttonEl =\n",
              "        document.querySelector('#df-ecbdee22-e87a-401f-ae7b-0e52301c7efa button.colab-df-convert');\n",
              "      buttonEl.style.display =\n",
              "        google.colab.kernel.accessAllowed ? 'block' : 'none';\n",
              "\n",
              "      async function convertToInteractive(key) {\n",
              "        const element = document.querySelector('#df-ecbdee22-e87a-401f-ae7b-0e52301c7efa');\n",
              "        const dataTable =\n",
              "          await google.colab.kernel.invokeFunction('convertToInteractive',\n",
              "                                                    [key], {});\n",
              "        if (!dataTable) return;\n",
              "\n",
              "        const docLinkHtml = 'Like what you see? Visit the ' +\n",
              "          '<a target=\"_blank\" href=https://colab.research.google.com/notebooks/data_table.ipynb>data table notebook</a>'\n",
              "          + ' to learn more about interactive tables.';\n",
              "        element.innerHTML = '';\n",
              "        dataTable['output_type'] = 'display_data';\n",
              "        await google.colab.output.renderOutput(dataTable, element);\n",
              "        const docLink = document.createElement('div');\n",
              "        docLink.innerHTML = docLinkHtml;\n",
              "        element.appendChild(docLink);\n",
              "      }\n",
              "    </script>\n",
              "  </div>\n",
              "\n",
              "\n",
              "<div id=\"df-a2d636fe-3fe5-476e-8052-1a878dce9435\">\n",
              "  <button class=\"colab-df-quickchart\" onclick=\"quickchart('df-a2d636fe-3fe5-476e-8052-1a878dce9435')\"\n",
              "            title=\"Suggest charts\"\n",
              "            style=\"display:none;\">\n",
              "\n",
              "<svg xmlns=\"http://www.w3.org/2000/svg\" height=\"24px\"viewBox=\"0 0 24 24\"\n",
              "     width=\"24px\">\n",
              "    <g>\n",
              "        <path d=\"M19 3H5c-1.1 0-2 .9-2 2v14c0 1.1.9 2 2 2h14c1.1 0 2-.9 2-2V5c0-1.1-.9-2-2-2zM9 17H7v-7h2v7zm4 0h-2V7h2v10zm4 0h-2v-4h2v4z\"/>\n",
              "    </g>\n",
              "</svg>\n",
              "  </button>\n",
              "\n",
              "<style>\n",
              "  .colab-df-quickchart {\n",
              "      --bg-color: #E8F0FE;\n",
              "      --fill-color: #1967D2;\n",
              "      --hover-bg-color: #E2EBFA;\n",
              "      --hover-fill-color: #174EA6;\n",
              "      --disabled-fill-color: #AAA;\n",
              "      --disabled-bg-color: #DDD;\n",
              "  }\n",
              "\n",
              "  [theme=dark] .colab-df-quickchart {\n",
              "      --bg-color: #3B4455;\n",
              "      --fill-color: #D2E3FC;\n",
              "      --hover-bg-color: #434B5C;\n",
              "      --hover-fill-color: #FFFFFF;\n",
              "      --disabled-bg-color: #3B4455;\n",
              "      --disabled-fill-color: #666;\n",
              "  }\n",
              "\n",
              "  .colab-df-quickchart {\n",
              "    background-color: var(--bg-color);\n",
              "    border: none;\n",
              "    border-radius: 50%;\n",
              "    cursor: pointer;\n",
              "    display: none;\n",
              "    fill: var(--fill-color);\n",
              "    height: 32px;\n",
              "    padding: 0;\n",
              "    width: 32px;\n",
              "  }\n",
              "\n",
              "  .colab-df-quickchart:hover {\n",
              "    background-color: var(--hover-bg-color);\n",
              "    box-shadow: 0 1px 2px rgba(60, 64, 67, 0.3), 0 1px 3px 1px rgba(60, 64, 67, 0.15);\n",
              "    fill: var(--button-hover-fill-color);\n",
              "  }\n",
              "\n",
              "  .colab-df-quickchart-complete:disabled,\n",
              "  .colab-df-quickchart-complete:disabled:hover {\n",
              "    background-color: var(--disabled-bg-color);\n",
              "    fill: var(--disabled-fill-color);\n",
              "    box-shadow: none;\n",
              "  }\n",
              "\n",
              "  .colab-df-spinner {\n",
              "    border: 2px solid var(--fill-color);\n",
              "    border-color: transparent;\n",
              "    border-bottom-color: var(--fill-color);\n",
              "    animation:\n",
              "      spin 1s steps(1) infinite;\n",
              "  }\n",
              "\n",
              "  @keyframes spin {\n",
              "    0% {\n",
              "      border-color: transparent;\n",
              "      border-bottom-color: var(--fill-color);\n",
              "      border-left-color: var(--fill-color);\n",
              "    }\n",
              "    20% {\n",
              "      border-color: transparent;\n",
              "      border-left-color: var(--fill-color);\n",
              "      border-top-color: var(--fill-color);\n",
              "    }\n",
              "    30% {\n",
              "      border-color: transparent;\n",
              "      border-left-color: var(--fill-color);\n",
              "      border-top-color: var(--fill-color);\n",
              "      border-right-color: var(--fill-color);\n",
              "    }\n",
              "    40% {\n",
              "      border-color: transparent;\n",
              "      border-right-color: var(--fill-color);\n",
              "      border-top-color: var(--fill-color);\n",
              "    }\n",
              "    60% {\n",
              "      border-color: transparent;\n",
              "      border-right-color: var(--fill-color);\n",
              "    }\n",
              "    80% {\n",
              "      border-color: transparent;\n",
              "      border-right-color: var(--fill-color);\n",
              "      border-bottom-color: var(--fill-color);\n",
              "    }\n",
              "    90% {\n",
              "      border-color: transparent;\n",
              "      border-bottom-color: var(--fill-color);\n",
              "    }\n",
              "  }\n",
              "</style>\n",
              "\n",
              "  <script>\n",
              "    async function quickchart(key) {\n",
              "      const quickchartButtonEl =\n",
              "        document.querySelector('#' + key + ' button');\n",
              "      quickchartButtonEl.disabled = true;  // To prevent multiple clicks.\n",
              "      quickchartButtonEl.classList.add('colab-df-spinner');\n",
              "      try {\n",
              "        const charts = await google.colab.kernel.invokeFunction(\n",
              "            'suggestCharts', [key], {});\n",
              "      } catch (error) {\n",
              "        console.error('Error during call to suggestCharts:', error);\n",
              "      }\n",
              "      quickchartButtonEl.classList.remove('colab-df-spinner');\n",
              "      quickchartButtonEl.classList.add('colab-df-quickchart-complete');\n",
              "    }\n",
              "    (() => {\n",
              "      let quickchartButtonEl =\n",
              "        document.querySelector('#df-a2d636fe-3fe5-476e-8052-1a878dce9435 button');\n",
              "      quickchartButtonEl.style.display =\n",
              "        google.colab.kernel.accessAllowed ? 'block' : 'none';\n",
              "    })();\n",
              "  </script>\n",
              "</div>\n",
              "    </div>\n",
              "  </div>\n"
            ],
            "application/vnd.google.colaboratory.intrinsic+json": {
              "type": "dataframe",
              "summary": "{\n  \"name\": \"df\",\n  \"rows\": 8,\n  \"fields\": [\n    {\n      \"column\": \"custid\",\n      \"properties\": {\n        \"dtype\": \"number\",\n        \"std\": 71.77644232399086,\n        \"min\": 1.0,\n        \"max\": 200.0,\n        \"num_unique_values\": 6,\n        \"samples\": [\n          200.0,\n          100.5,\n          150.25\n        ],\n        \"semantic_type\": \"\",\n        \"description\": \"\"\n      }\n    },\n    {\n      \"column\": \"sex\",\n      \"properties\": {\n        \"dtype\": \"number\",\n        \"std\": 70.50763966335327,\n        \"min\": 0.0,\n        \"max\": 200.0,\n        \"num_unique_values\": 5,\n        \"samples\": [\n          0.545,\n          1.0,\n          0.4992204979041207\n        ],\n        \"semantic_type\": \"\",\n        \"description\": \"\"\n      }\n    },\n    {\n      \"column\": \"AqChannel\",\n      \"properties\": {\n        \"dtype\": \"number\",\n        \"std\": 69.68807735643657,\n        \"min\": 1.0,\n        \"max\": 200.0,\n        \"num_unique_values\": 6,\n        \"samples\": [\n          200.0,\n          3.43,\n          4.0\n        ],\n        \"semantic_type\": \"\",\n        \"description\": \"\"\n      }\n    },\n    {\n      \"column\": \"region\",\n      \"properties\": {\n        \"dtype\": \"number\",\n        \"std\": 70.01943551166941,\n        \"min\": 0.7242913708927843,\n        \"max\": 200.0,\n        \"num_unique_values\": 6,\n        \"samples\": [\n          200.0,\n          2.055,\n          3.0\n        ],\n        \"semantic_type\": \"\",\n        \"description\": \"\"\n      }\n    },\n    {\n      \"column\": \"Marital_status\",\n      \"properties\": {\n        \"dtype\": \"number\",\n        \"std\": 70.3318881327999,\n        \"min\": 0.3675260220507142,\n        \"max\": 200.0,\n        \"num_unique_values\": 5,\n        \"samples\": [\n          1.16,\n          2.0,\n          0.3675260220507142\n        ],\n        \"semantic_type\": \"\",\n        \"description\": \"\"\n      }\n    },\n    {\n      \"column\": \"segment\",\n      \"properties\": {\n        \"dtype\": \"number\",\n        \"std\": 70.0595186484318,\n        \"min\": 0.6904772219051467,\n        \"max\": 200.0,\n        \"num_unique_values\": 7,\n        \"samples\": [\n          200.0,\n          2.025,\n          2.25\n        ],\n        \"semantic_type\": \"\",\n        \"description\": \"\"\n      }\n    },\n    {\n      \"column\": \"pre_usage\",\n      \"properties\": {\n        \"dtype\": \"number\",\n        \"std\": 58.022513700198225,\n        \"min\": 10.25293682648241,\n        \"max\": 200.0,\n        \"num_unique_values\": 8,\n        \"samples\": [\n          52.23,\n          50.0,\n          200.0\n        ],\n        \"semantic_type\": \"\",\n        \"description\": \"\"\n      }\n    },\n    {\n      \"column\": \"Post_usage_1month\",\n      \"properties\": {\n        \"dtype\": \"number\",\n        \"std\": 57.487440284909354,\n        \"min\": 9.47858602138653,\n        \"max\": 200.0,\n        \"num_unique_values\": 8,\n        \"samples\": [\n          52.775,\n          54.0,\n          200.0\n        ],\n        \"semantic_type\": \"\",\n        \"description\": \"\"\n      }\n    },\n    {\n      \"column\": \"Latest_mon_usage\",\n      \"properties\": {\n        \"dtype\": \"number\",\n        \"std\": 55.953851897219714,\n        \"min\": 11.242137352892756,\n        \"max\": 200.0,\n        \"num_unique_values\": 8,\n        \"samples\": [\n          63.174,\n          62.4,\n          200.0\n        ],\n        \"semantic_type\": \"\",\n        \"description\": \"\"\n      }\n    },\n    {\n      \"column\": \"post_usage_2ndmonth\",\n      \"properties\": {\n        \"dtype\": \"number\",\n        \"std\": 56.570720302424434,\n        \"min\": 10.426444623525184,\n        \"max\": 200.0,\n        \"num_unique_values\": 8,\n        \"samples\": [\n          58.0525,\n          59.4,\n          200.0\n        ],\n        \"semantic_type\": \"\",\n        \"description\": \"\"\n      }\n    }\n  ]\n}"
            }
          },
          "metadata": {},
          "execution_count": 5
        }
      ]
    },
    {
      "cell_type": "code",
      "source": [
        "# Notes: The table shows the basic statistical values of the file 'cust_seg.csv' for each column, such as:\n",
        "# mean, standard deviation, minimum value, quartiles, and maximum value."
      ],
      "metadata": {
        "id": "-LAR-KbajF2V"
      },
      "execution_count": null,
      "outputs": []
    },
    {
      "cell_type": "markdown",
      "source": [
        "**B. Histogram**"
      ],
      "metadata": {
        "id": "FTFpP9NGjupl"
      }
    },
    {
      "cell_type": "markdown",
      "source": [
        "Histogram for Gender Variable"
      ],
      "metadata": {
        "id": "DU2fqVTerK-q"
      }
    },
    {
      "cell_type": "code",
      "source": [
        "plt.figure(figsize=(6, 3))\n",
        "##see the difference in credit card usage distribution based on gender\n",
        "plt.hist(df['sex'])\n",
        "plt.xlabel('Jenis Kelamin (1: Perempuan, 0: Laki-laki)')\n",
        "plt.ylabel('Jumlah Kustomer')\n",
        "plt.title('Histogram Jenis Kelamin Kustomer Kartu Kredit')\n",
        "plt.show()\n",
        "df['sex'].value_counts()"
      ],
      "metadata": {
        "colab": {
          "base_uri": "https://localhost:8080/",
          "height": 405
        },
        "id": "4LC6YVKUl62U",
        "outputId": "a2321164-64df-4c55-f6e9-ca429cb6822f"
      },
      "execution_count": null,
      "outputs": [
        {
          "output_type": "display_data",
          "data": {
            "text/plain": [
              "<Figure size 600x300 with 1 Axes>"
            ],
            "image/png": "[encoded data removed]"
          },
          "metadata": {}
        },
        {
          "output_type": "execute_result",
          "data": {
            "text/plain": [
              "sex\n",
              "1    109\n",
              "0     91\n",
              "Name: count, dtype: int64"
            ]
          },
          "metadata": {},
          "execution_count": 44
        }
      ]
    },
    {
      "cell_type": "code",
      "source": [
        "##Notes:\n",
        "#The provided information indicates that there are more females (category 1) than males (category 0) in the dataset.\n",
        "#The exact count is 109 females and 91 males."
      ],
      "metadata": {
        "id": "3iIGPoq3rmlf"
      },
      "execution_count": null,
      "outputs": []
    },
    {
      "cell_type": "markdown",
      "source": [
        "Histogram for Akuisisi"
      ],
      "metadata": {
        "id": "ZGxvYTps6osW"
      }
    },
    {
      "cell_type": "code",
      "source": [
        "##To see the difference in credit card usage distribution based on acquisition type:plt.figure(figsize=(6, 3))\n",
        "plt.hist(df['AqChannel'])\n",
        "plt.xlabel('Kode Aquisisi')\n",
        "plt.ylabel('Jumlah Kustomer')\n",
        "plt.title('Histogram AqChannel')\n",
        "df['AqChannel'].value_counts()"
      ],
      "metadata": {
        "colab": {
          "base_uri": "https://localhost:8080/",
          "height": 441
        },
        "id": "ec4lBOvTr7Iy",
        "outputId": "3dd4a5cc-b128-482f-bf11-5e3882fe520f"
      },
      "execution_count": null,
      "outputs": [
        {
          "output_type": "execute_result",
          "data": {
            "text/plain": [
              "AqChannel\n",
              "4    145\n",
              "1     24\n",
              "3     20\n",
              "2     11\n",
              "Name: count, dtype: int64"
            ]
          },
          "metadata": {},
          "execution_count": 45
        },
        {
          "output_type": "display_data",
          "data": {
            "text/plain": [
              "<Figure size 600x300 with 1 Axes>"
            ],
            "image/png": "[encoded data removed]"
          },
          "metadata": {}
        }
      ]
    },
    {
      "cell_type": "code",
      "source": [
        "##Notes:\n",
        "#The data shows that acquisition code 4 was used the most in the credit card campaign.\n",
        "#The exact count is:e Akuisisi 1 : 24, Akuisisi 2, Akuisisi 3 : 20, dan Akuisisi 4: 145"
      ],
      "metadata": {
        "id": "yONkChTXsIZP"
      },
      "execution_count": null,
      "outputs": []
    },
    {
      "cell_type": "markdown",
      "source": [
        "Histogram for Customer Region"
      ],
      "metadata": {
        "id": "zflveBnG6rb-"
      }
    },
    {
      "cell_type": "code",
      "source": [
        "##see the difference in credit card usage distribution based on residential area\n",
        "plt.figure(figsize=(6, 3))\n",
        "plt.hist(df['region'])\n",
        "plt.xlabel('Kode Region')\n",
        "plt.ylabel('Jumlah Kustomer')\n",
        "plt.title('Region')\n",
        "df['region'].value_counts()"
      ],
      "metadata": {
        "colab": {
          "base_uri": "https://localhost:8080/",
          "height": 423
        },
        "id": "Z-iUacWuu8Lq",
        "outputId": "5f2bf772-8cf6-4a30-ed3b-1132c2893ba2"
      },
      "execution_count": null,
      "outputs": [
        {
          "output_type": "execute_result",
          "data": {
            "text/plain": [
              "region\n",
              "2    95\n",
              "3    58\n",
              "1    47\n",
              "Name: count, dtype: int64"
            ]
          },
          "metadata": {},
          "execution_count": 47
        },
        {
          "output_type": "display_data",
          "data": {
            "text/plain": [
              "<Figure size 600x300 with 1 Axes>"
            ],
            "image/png": "[encoded data removed]"
          },
          "metadata": {}
        }
      ]
    },
    {
      "cell_type": "code",
      "source": [
        "##Notes:\n",
        "#The data shows that the most customers who participated in the credit card campaign were from Region 2.\n",
        "#The exact count is: region 1 : 47, Region 2 : 95, dan Region 3: 58"
      ],
      "metadata": {
        "id": "YPifWU38vcRl"
      },
      "execution_count": null,
      "outputs": []
    },
    {
      "cell_type": "markdown",
      "source": [
        "Histogram for Customer Category"
      ],
      "metadata": {
        "id": "X8bAa6K46uaN"
      }
    },
    {
      "cell_type": "code",
      "source": [
        "plt.figure(figsize=(6, 3))\n",
        "plt.hist(df['segment'])\n",
        "plt.xlabel('Kode Segment')\n",
        "plt.ylabel('Jumlah Kustomer')\n",
        "plt.title('Histogram Segment')\n",
        "df['segment'].value_counts()"
      ],
      "metadata": {
        "colab": {
          "base_uri": "https://localhost:8080/",
          "height": 423
        },
        "id": "YvzwxzGuvvvB",
        "outputId": "c95de51d-9816-4604-dfeb-08d5bdff8708"
      },
      "execution_count": null,
      "outputs": [
        {
          "output_type": "execute_result",
          "data": {
            "text/plain": [
              "segment\n",
              "2    105\n",
              "3     50\n",
              "1     45\n",
              "Name: count, dtype: int64"
            ]
          },
          "metadata": {},
          "execution_count": 48
        },
        {
          "output_type": "display_data",
          "data": {
            "text/plain": [
              "<Figure size 600x300 with 1 Axes>"
            ],
            "image/png": "[encoded data removed]"
          },
          "metadata": {}
        }
      ]
    },
    {
      "cell_type": "code",
      "source": [
        "##Notes:\n",
        "#The data shows that most customers who participated in the credit card campaign were from Segment 2.\n",
        "#The exact count is: Segmen 1 : 45, Segmen 2: 105,  segmen 3 : 50"
      ],
      "metadata": {
        "id": "R3xo1NZgwERq"
      },
      "execution_count": null,
      "outputs": []
    },
    {
      "cell_type": "markdown",
      "source": [
        "**Histogram for Credit Card Usage**"
      ],
      "metadata": {
        "id": "IxmXrnLN6yIy"
      }
    },
    {
      "cell_type": "code",
      "source": [
        "plt.figure(figsize=(15, 10))\n",
        "\n",
        "#Before Campaign\n",
        "plt.subplot(2, 2, 1)\n",
        "plt.hist(df['pre_usage'])\n",
        "plt.title('Histogram Banyaknya Kustomer Sebelum Kampanye')\n",
        "\n",
        "#1-Month Post-Campaign\n",
        "plt.subplot(2, 2, 2)\n",
        "plt.hist(df['Post_usage_1month'])\n",
        "plt.title('Histogram Banyaknya Kustomer Setelah 1 Bulan Kampanye')\n",
        "\n",
        "#2-Month Post-Campaign\n",
        "plt.subplot(2, 2, 3)\n",
        "plt.hist(df['post_usage_2ndmonth'])\n",
        "plt.title('Histogram Banyaknya Kustomer Setelah 2 Bulan Kampanye')\n",
        "\n",
        "#Effect of the campaign\n",
        "total_pre_usage = df['pre_usage'].sum()\n",
        "total_Post_usage_1month = df['Post_usage_1month'].sum()\n",
        "total_Post_usage_2month = df['post_usage_2ndmonth'].sum()\n",
        "\n",
        "plt.subplot(2, 2, 4)\n",
        "data = [total_pre_usage, total_Post_usage_1month, total_Post_usage_2month]\n",
        "labels = ['Sebelum Kampanye', '1 Bulan Setelahnya', '2 Bulan Setelahnya']\n",
        "plt.bar(labels, data)\n",
        "plt.xlabel('Periode')\n",
        "plt.ylabel('Total Penggunaan Kartu Kredit')\n",
        "plt.title('Total Penggunaan Kartu Kredit (Sebelum dan Setelah Kampanye)')\n",
        "plt.show()\n",
        "\n",
        "print(\"Total Pre Usage:\", total_pre_usage)\n",
        "print(\"Total After 1 Month Usage:\", total_Post_usage_1month)\n",
        "print(\"Total After 2 Month Usage:\", total_Post_usage_2month)"
      ],
      "metadata": {
        "colab": {
          "base_uri": "https://localhost:8080/",
          "height": 680
        },
        "id": "0fQvfNEh5GhQ",
        "outputId": "52114472-168a-400a-ba7b-b2ef03c2f55a"
      },
      "execution_count": null,
      "outputs": [
        {
          "output_type": "display_data",
          "data": {
            "text/plain": [
              "<Figure size 1500x1000 with 4 Axes>"
            ],
            "image/png": "[encoded data removed]"
          },
          "metadata": {}
        },
        {
          "output_type": "stream",
          "name": "stdout",
          "text": [
            "Total Pre Usage: 10446\n",
            "Total After 1 Month Usage: 10555\n",
            "Total After 2 Month Usage: 11610.5\n"
          ]
        }
      ]
    },
    {
      "cell_type": "code",
      "source": [
        "##Notes:\n",
        "#The data shows an increase in credit card usage after the campaign.\n",
        "#However, this data alone cannot prove that the campaign was successful. Further analysis is needed to determine the true impact of the campaign."
      ],
      "metadata": {
        "id": "_D8o4Oow5KxA"
      },
      "execution_count": null,
      "outputs": []
    },
    {
      "cell_type": "markdown",
      "source": [
        "## Hypothesis Testing to Determine the Success of the Campaign."
      ],
      "metadata": {
        "id": "lVnNg7eu4txu"
      }
    },
    {
      "cell_type": "markdown",
      "source": [
        "**A.Examine the hypothesis that credit card usage differs between the period before and one month subsequent to the campaign.**"
      ],
      "metadata": {
        "id": "f7SNt2Et6Jm0"
      }
    },
    {
      "cell_type": "code",
      "source": [
        "##Hypothesis Definition\n",
        "#H0 (Null Hypothesis): There is no statistically significant difference in credit card usage between before and one month after the campaign.\n",
        "#H1 (Alternative Hypothesis): There is a statistically significant difference in credit card usage between before and one month after the campaign.\n",
        "\n",
        "##Hypothesis Testing\n",
        "pre_usage = df['pre_usage']\n",
        "Post_usage_1month = df['Post_usage_1month']\n",
        "\n",
        "# Perform t-test for related samples\n",
        "t_statistic, p_value = stats.ttest_rel(pre_usage, Post_usage_1month)\n",
        "print(\"Nilai p = \", p_value)\n",
        "\n",
        "# Interpret results\n",
        "if p_value < 0.05:\n",
        "    print(\"p-value < 0.05\")\n",
        "    print(\"Hasil Uji Hipotesis:Tolak H0\")\n",
        "    print(\"Kesimpulan: Terdapat perbedaan signifikan dalam penggunaan kartu kredit antara sebelum kampanye dan satu bulan setelah kampanye\")\n",
        "else:\n",
        "    print(\"p-value >= 0.05\")\n",
        "    print(\"Hasil Uji Hipotesis: Gagal tolak H0.\")\n",
        "    print(\"Kesimpulan: Tidak terdapat perbedaan signifikan dalam penggunaan kartu kredit antara sebelum kampanye dan satu bulan setelah kampanye.\")"
      ],
      "metadata": {
        "colab": {
          "base_uri": "https://localhost:8080/"
        },
        "id": "n5uannfd41D-",
        "outputId": "8f27b34f-91ed-4a27-f1a6-250dbdcf4296"
      },
      "execution_count": null,
      "outputs": [
        {
          "output_type": "stream",
          "name": "stdout",
          "text": [
            "Nilai p =  0.3868186820914985\n",
            "p-value >= 0.05\n",
            "Hasil Uji Hipotesis: Gagal tolak H0.\n",
            "Kesimpulan: Tidak terdapat perbedaan signifikan dalam penggunaan kartu kredit antara sebelum kampanye dan satu bulan setelah kampanye.\n"
          ]
        }
      ]
    },
    {
      "cell_type": "markdown",
      "source": [
        "**B. Examine the hypothesis that credit card usage differs between the period before and Two month subsequent to the campaign.**"
      ],
      "metadata": {
        "id": "X6x6ALRRAhQV"
      }
    },
    {
      "cell_type": "code",
      "source": [
        "##Hypothesis Definition\n",
        "#H0 (Null Hypothesis): There is no statistically significant difference in credit card usage between before and two month after the campaign.\n",
        "#H1 (Alternative Hypothesis): There is a statistically significant difference in credit card usage between before and two month after the campaign.\n",
        "\n",
        "##Hypothesis Testing\n",
        "pre_usage = df['pre_usage']\n",
        "Post_usage_2month = df['post_usage_2ndmonth']\n",
        "\n",
        "t_statistic, p_value = stats.ttest_rel(pre_usage, Post_usage_2month)\n",
        "print(\"Nilai p = \", p_value)\n",
        "\n",
        "# Interpret results\n",
        "if p_value < 0.05:\n",
        "    print(\"p-value < 0.05\")\n",
        "    print(\"Hasil Uji Hipotesis: Tolak H0\")\n",
        "    print(\"Kesimpulan: Terdapat perbedaan signifikan dalam penggunaan kartu kredit antara sebelum kampanye dan satu bulan setelah kampanye\")\n",
        "else:\n",
        "    print(\"p-value >= 0.05\")\n",
        "    print(\"Hasil Uji Hipotesis: Gagal tolak H0.\")\n",
        "    print(\"Kesimpulan: Tidak terdapat perbedaan signifikan dalam penggunaan kartu kredit antara sebelum kampanye dan satu bulan setelah kampanye.\")"
      ],
      "metadata": {
        "colab": {
          "base_uri": "https://localhost:8080/"
        },
        "id": "RnkrD7CE_I_o",
        "outputId": "0814df46-132c-4f96-e9c3-d0431126f391"
      },
      "execution_count": null,
      "outputs": [
        {
          "output_type": "stream",
          "name": "stdout",
          "text": [
            "Nilai p =  4.295733828012836e-16\n",
            "p-value < 0.05\n",
            "Hasil Uji Hipotesis: Tolak H0\n",
            "Kesimpulan: Terdapat perbedaan signifikan dalam penggunaan kartu kredit antara sebelum kampanye dan satu bulan setelah kampanye\n"
          ]
        }
      ]
    },
    {
      "cell_type": "code",
      "source": [
        "##Kesimpulan :\n",
        "#It is difficult to draw a definitive conclusion about the overall effectiveness of the credit card campaign based on these two hypothesis test results alone.This is because:\n",
        "#1#The differing results between 1 month and 2 months suggest that the campaign's effect may develop over time.\n",
        "#2#It is possible that the campaign had no immediate effect on credit card usage within 1 month, but may have had a positive effect after 2 months.\n",
        "## Further analysis and investigation are needed to fully understand the impact of the campaign and to determine its overall effectiveness."
      ],
      "metadata": {
        "id": "fwLURTv7A5ZC"
      },
      "execution_count": null,
      "outputs": []
    },
    {
      "cell_type": "markdown",
      "source": [
        "## Hypothesis Testing to Identify Differences in Credit Card Usage Between Male and Female Categories Post-Campaign."
      ],
      "metadata": {
        "id": "IC8OgpfbEHIi"
      }
    },
    {
      "cell_type": "markdown",
      "source": [
        "**A.  Test the hypothesis that there is a difference in credit card usage between men and women 1 month after the campaign.**"
      ],
      "metadata": {
        "id": "sO_w1PmtGkxX"
      }
    },
    {
      "cell_type": "code",
      "source": [
        "##Hypothesis Definition\n",
        "#H0 (Null Hypothesis): There is no statistically significant difference in credit card usage between men and women 1 month after the campaign.\n",
        "#H1 (Alternative Hypothesis): There is a statistically significant difference in credit card usage between men and women 1 month after the campaign.\n",
        "\n",
        "##Hypothesis Testing\n",
        "male_usage_1 = df[df['sex'] == 0]['Post_usage_1month']\n",
        "female_usage_1 = df[df['sex'] == 1]['Post_usage_1month']\n",
        "\n",
        "t_statistic, p_value = stats.ttest_ind(male_usage_1, female_usage_1)\n",
        "print(\"Nilai p = \", p_value)\n",
        "\n",
        "## Interpretation of Results:\n",
        "if p_value < 0.05:\n",
        "    print(\"p-value < 0.05\")\n",
        "    print(\"Hasil Uji Hipotesis: Tolak H0. \")\n",
        "    print(\"Terdapat perbedaan signifikan dalam penggunaan kartu kredit antara laki-laki dan perempuan setelah 1 bulan kampanye.\")\n",
        "\n",
        "    # To find the gender of users with the highest credit card usage:\n",
        "    if male_usage_1.mean() > female_usage_1.mean():\n",
        "        print(\"Laki-laki memiliki penggunaan kartu kredit yang lebih tinggi.\")\n",
        "    else:\n",
        "        print(\"Perempuan memiliki penggunaan kartu kredit yang lebih tinggi.\")\n",
        "else:\n",
        "    print(\"p-value >= 0.05\")\n",
        "    print(\"Hasil Uji Hipotesis: Gagal tolak H0.\")\n",
        "    print(\"Tidak terdapat perbedaan signifikan dalam penggunaan kartu kredit antara laki-laki dan perempuan setelah 1 bulan kampanye (p-value >= 0.05).\")\n"
      ],
      "metadata": {
        "colab": {
          "base_uri": "https://localhost:8080/"
        },
        "id": "9BWTfoqNCN4E",
        "outputId": "0113c6ff-e801-4b8c-ff77-6d6692ae77af"
      },
      "execution_count": null,
      "outputs": [
        {
          "output_type": "stream",
          "name": "stdout",
          "text": [
            "Nilai p =  0.00024625461203549315\n",
            "p-value < 0.05\n",
            "Hasil Uji Hipotesis: Tolak H0. \n",
            "Terdapat perbedaan signifikan dalam penggunaan kartu kredit antara laki-laki dan perempuan setelah 1 bulan kampanye.\n",
            "Perempuan memiliki penggunaan kartu kredit yang lebih tinggi.\n"
          ]
        }
      ]
    },
    {
      "cell_type": "markdown",
      "source": [
        "**B. Test the hypothesis that there is a difference in credit card usage between men and women 2 month after the campaign.**"
      ],
      "metadata": {
        "id": "sTCPcLi1IFM7"
      }
    },
    {
      "cell_type": "code",
      "source": [
        "#Hypothesis Definition\n",
        "#H0 (Null Hypothesis): There is no statistically significant difference in credit card usage between men and women 2 months after the campaign.\n",
        "#H1 (Alternative Hypothesis): There is a statistically significant difference in credit card usage between men and women 2 months after the campaign.\n",
        "\n",
        "##Hypothesis Testing\n",
        "Post_usage_1month\n",
        "male_usage_1 = df[df['sex'] == 0]['post_usage_2ndmonth']\n",
        "female_usage_1 = df[df['sex'] == 1]['post_usage_2ndmonth']\n",
        "\n",
        "t_statistic, p_value = stats.ttest_ind(male_usage_1, female_usage_1)\n",
        "print(\"Nilai p = \", p_value)\n",
        "\n",
        "## Interpretation of Results:\n",
        "if p_value < 0.05:\n",
        "    print(\"p-value < 0.05\")\n",
        "    print(\"Hasil Uji Hipotesis: Tolak H0. \")\n",
        "    print(\"Terdapat perbedaan signifikan dalam penggunaan kartu kredit antara laki-laki dan perempuan setelah 2 bulan kampanye.\")\n",
        "\n",
        "    # To find the gender of users with the highest credit card usage:\n",
        "    if male_usage_1.mean() > female_usage_1.mean():\n",
        "        print(\"Laki-laki memiliki penggunaan kartu kredit yang lebih tinggi.\")\n",
        "    else:\n",
        "        print(\"Perempuan memiliki penggunaan kartu kredit yang lebih tinggi.\")\n",
        "else:\n",
        "    print(\"p-value >= 0.05\")\n",
        "    print(\"Hasil Uji Hipotesis: Gagal tolak H0.\")\n",
        "    print(\"Tidak terdapat perbedaan signifikan dalam penggunaan kartu kredit antara laki-laki dan perempuan setelah 2 bulan kampanye.\")\n"
      ],
      "metadata": {
        "colab": {
          "base_uri": "https://localhost:8080/"
        },
        "id": "J3MZjfnpG0g-",
        "outputId": "038fcb38-86e0-442c-87b6-264d3232edaa"
      },
      "execution_count": null,
      "outputs": [
        {
          "output_type": "stream",
          "name": "stdout",
          "text": [
            "Nilai p =  0.0002462546120354815\n",
            "p-value < 0.05\n",
            "Hasil Uji Hipotesis: Tolak H0. \n",
            "Terdapat perbedaan signifikan dalam penggunaan kartu kredit antara laki-laki dan perempuan setelah 2 bulan kampanye.\n",
            "Perempuan memiliki penggunaan kartu kredit yang lebih tinggi.\n"
          ]
        }
      ]
    },
    {
      "cell_type": "code",
      "source": [
        "## Conclusion:\n",
        "# There is a statistically significant difference in credit card usage between men and women both one month and two months after the campaign.\n",
        "# This is evident from the p-values being less than 0.05 in both hypothesis tests.\n",
        "# Women have higher credit card usage compared to men at both time points analyzed, based on the provided data."
      ],
      "metadata": {
        "id": "3XZOIYIAH8ib"
      },
      "execution_count": null,
      "outputs": []
    },
    {
      "cell_type": "code",
      "source": [],
      "metadata": {
        "id": "D4Qyjo_4I3Pe"
      },
      "execution_count": null,
      "outputs": []
    }
  ]
}